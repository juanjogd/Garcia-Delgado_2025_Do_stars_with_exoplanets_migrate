{
 "cells": [
  {
   "cell_type": "markdown",
   "id": "9709b25f",
   "metadata": {},
   "source": [
    "# Libraries"
   ]
  },
  {
   "cell_type": "code",
   "execution_count": 1,
   "id": "b8b6b82d",
   "metadata": {},
   "outputs": [],
   "source": [
    "import numpy             as np\n",
    "import pandas            as pd\n",
    "import matplotlib.pyplot as plt\n",
    "import seaborn           as sns\n",
    "import time\n",
    "import os"
   ]
  },
  {
   "cell_type": "code",
   "execution_count": 2,
   "id": "15d9cc8b",
   "metadata": {},
   "outputs": [],
   "source": [
    "import galpy\n",
    "from galpy.orbit                  import Orbit as orbit\n",
    "from galpy.potential.mwpotentials import McMillan17 as mcmillan\n",
    "from galpy.util.conversion        import get_physical as gp\n",
    "\n",
    "from astropy.coordinates import SkyCoord as astro_coord\n",
    "from astropy.time        import Time     as astro_time\n",
    "from astropy             import units    as astro_units"
   ]
  },
  {
   "cell_type": "markdown",
   "id": "1e0a4ba9",
   "metadata": {},
   "source": [
    "# Data"
   ]
  },
  {
   "cell_type": "code",
   "execution_count": 3,
   "id": "77494a34",
   "metadata": {},
   "outputs": [],
   "source": [
    "# data = pd.read_csv('stars_data_for_orbits.csv')\n",
    "# columns_needed = [\n",
    "#     'CNAME', 'ra', 'dec', 'pmra', 'pmdec', 'RV', 'distance_50.',\n",
    "#     'ra_error', 'dec_error', 'pmra_error', 'pmdec_error', 'RV error', 'distance_sigma'\n",
    "# ]\n",
    "# data_HTC = data[columns_needed].copy()\n",
    "# data_HTC.to_csv('orbits_HTC.csv', index=False)"
   ]
  },
  {
   "cell_type": "code",
   "execution_count": 4,
   "id": "e9ae5c1a",
   "metadata": {},
   "outputs": [],
   "source": [
    "data = pd.read_csv('orbits_HTC.csv')"
   ]
  },
  {
   "cell_type": "markdown",
   "id": "2cd4be00",
   "metadata": {},
   "source": [
    "## Running the orbits for all stars"
   ]
  },
  {
   "cell_type": "code",
   "execution_count": 5,
   "id": "597f74a6",
   "metadata": {},
   "outputs": [
    {
     "data": {
      "text/plain": [
       "range(0, 3308)"
      ]
     },
     "execution_count": 5,
     "metadata": {},
     "output_type": "execute_result"
    }
   ],
   "source": [
    "ncores = 24\n",
    "\n",
    "resample_size_01 = 100\n",
    "resample_size_02 = 100\n",
    "\n",
    "period = np.linspace(0, 10, 51)*astro_units.Gyr\n",
    "\n",
    "star_range = range(data['CNAME'].size)\n",
    "star_range"
   ]
  },
  {
   "cell_type": "code",
   "execution_count": 6,
   "id": "4c22e772",
   "metadata": {},
   "outputs": [],
   "source": [
    "orbits = {}\n",
    "orbits['CNAME']                 = []\n",
    "orbits['distance']              = []\n",
    "orbits['ang_moment_x_lx']       = []\n",
    "orbits['ang_moment_y_ly']       = []\n",
    "orbits['ang_moment_z_lz']       = []\n",
    "orbits['action_radial_jr']      = []\n",
    "orbits['action_azimuthal_jphi'] = []\n",
    "orbits['action_vertical_jz']    = []\n",
    "orbits['helio_x']               = []\n",
    "orbits['helio_y']               = []\n",
    "orbits['helio_z']               = []\n",
    "orbits['energy_tot_e']          = []\n",
    "orbits['energy_z_ez']           = []\n",
    "orbits['energy_r_er']           = []\n",
    "orbits['lsr_vel_u']             = []\n",
    "orbits['lsr_vel_v']             = []\n",
    "orbits['lsr_vel_w']             = []\n",
    "orbits['vel_x_vx']              = []\n",
    "orbits['vel_y_vy']              = []\n",
    "orbits['vel_z_vz']              = []\n",
    "orbits['vel_r_vr']              = []\n",
    "orbits['vel_phi_vphi']          = []\n",
    "orbits['eccentricity']          = []\n",
    "orbits['rperi']                 = []\n",
    "orbits['rapoa']                 = []\n",
    "orbits['zmax']                  = []\n",
    "orbits['rguiding']              = []"
   ]
  },
  {
   "cell_type": "code",
   "execution_count": 10,
   "id": "21895c3b",
   "metadata": {
    "scrolled": true
   },
   "outputs": [
    {
     "name": "stdout",
     "output_type": "stream",
     "text": [
      "/home/juanjo/anaconda3/envs/orbits/lib/python3.10/site-packages/galpy/potential/SCFPotential.py:228: RuntimeWarning: overflow encountered in power\n",
      "  phi[:,:] = - a**l*r**(-l-1.)/ ((1.+a/r)**(2*l + 1.)) * CC[:,:]* (4*numpy.pi)**0.5\n",
      "\n",
      "Integration of orbits for object 0 (CNAME=95652018353917056) finished. Elapsed time: 10.24 min\n",
      "file saved in 0 th star\n",
      "/home/juanjo/anaconda3/envs/orbits/lib/python3.10/site-packages/galpy/potential/SCFPotential.py:228: RuntimeWarning: overflow encountered in power\n",
      "  phi[:,:] = - a**l*r**(-l-1.)/ ((1.+a/r)**(2*l + 1.)) * CC[:,:]* (4*numpy.pi)**0.5\n",
      "\n",
      "Integration of orbits for object 1 (CNAME=2511794495013074048) finished. Elapsed time: 9.57 min\n",
      "file saved in 1 th star\n",
      "Total elapsed time calculating the orbits for 3308 stars: 19.81 min\n"
     ]
    }
   ],
   "source": [
    "start_time = time.process_time()\n",
    "# for i in star_range:\n",
    "# for i in star_range[:5]:\n",
    "for i in star_range[:2]:\n",
    "\n",
    "# for i in star_range[:700]:\n",
    "# for i in star_range[700:1400]:\n",
    "# for i in star_range[1400:2100]:\n",
    "# for i in star_range[2100:2800]:\n",
    "# for i in star_range[2800:]:\n",
    "\n",
    "    loop_time_i = time.process_time()   \n",
    "    # setting the data in order to resample the stars -------------------------------------------------------------\n",
    "    # first we need to estimate the covariance among the parameters -----------------------------------------------\n",
    "    cov_data     = data[['ra', 'dec', 'pmra', 'pmdec', 'RV', 'distance_50.']].iloc[i].copy().to_numpy()\n",
    "    cov_data_err = data[['ra_error', 'dec_error', 'pmra_error', 'pmdec_error', 'RV error', \n",
    "                         'distance_sigma']].iloc[i].copy().to_numpy()\n",
    "    # generating the row-shaped data as described here: -----------------------------------------------------------\n",
    "    # https://numpy.org/doc/stable/reference/generated/numpy.cov.html ---------------------------------------------\n",
    "\n",
    "    cov_rows = []\n",
    "    for covariates in range(cov_data.size):\n",
    "        ## resampling each star in the individual parameters given their errors -----------------------------------\n",
    "        rows = np.random.normal(cov_data[covariates], cov_data_err[covariates], resample_size_01)\n",
    "        if covariates==0:\n",
    "            cov_rows = rows\n",
    "        else:\n",
    "            cov_rows = np.row_stack([cov_rows, rows])\n",
    "    \n",
    "    # calculating the covariance ----------------------------------------------------------------------------------\n",
    "    covariance = np.cov(cov_rows)\n",
    "    \n",
    "    # resampling the star considering that this is a multivariate normal distribution (which may not be true) -----\n",
    "    resample    = np.random.multivariate_normal(mean=cov_data, cov=covariance, size=resample_size_02)\n",
    "    resample_df = pd.DataFrame(resample, columns=['ra', 'dec', 'pmra', 'pmdec', 'RV', 'distance'])\n",
    "    cname       = np.full(shape=resample_size_02, fill_value=np.array(data['CNAME'].iloc[i]))\n",
    "    resample_df.insert(0, 'CNAME', cname)\n",
    "    \n",
    "    # running the orbits integration for the resampled data for each star -----------------------------------------\n",
    "    for r in range(resample_size_02):\n",
    "        if resample_df['distance'].iloc[r]<0:\n",
    "            print(r\"Object %d has distance<0 (CNAME=%s)\" % (r, resample_df['CNAME'].iloc[r]))\n",
    "        else:\n",
    "        \n",
    "            current_star_coord = astro_coord(ra=resample_df['ra'].iloc[r]*astro_units.degree, \n",
    "                                             dec=resample_df['dec'].iloc[r]*astro_units.degree, \n",
    "                                             pm_ra_cosdec=(resample_df['pmra'].iloc[r]*\n",
    "                                                           astro_units.mas/astro_units.year),\n",
    "                                             pm_dec=resample_df['pmdec'].iloc[r]*astro_units.mas/astro_units.year,\n",
    "                                             radial_velocity=(resample_df['RV'].iloc[r]*\n",
    "                                                              astro_units.km/astro_units.s),\n",
    "                                             distance=resample_df['distance'].iloc[r]*astro_units.pc, \n",
    "                                             frame='icrs', obstime=astro_time(\"J2016.0\", format=\"jyear_str\"))\n",
    "            estimated_orbit = orbit(current_star_coord, **gp(mcmillan))\n",
    "    \n",
    "            estimated_orbit.integrate(period, mcmillan, method='dop853_c', numcores=ncores)\n",
    "               \n",
    "            ## appending results to dictionary --------------------------------------------------------------------\n",
    "            orbits['CNAME'].append(resample_df['CNAME'].iloc[r])          # object identifier\n",
    "            orbits['distance'].append(resample_df['distance'].iloc[r])    # resampled distance\n",
    "            orbits['ang_moment_x_lx'].append(estimated_orbit.L()[0])      # angular momentum (x-axis)\n",
    "            orbits['ang_moment_y_ly'].append(estimated_orbit.L()[1])      # angular momentum (y-axis)\n",
    "            orbits['ang_moment_z_lz'].append(estimated_orbit.L()[2])      # angular momentum (z-axis)\n",
    "            orbits['action_radial_jr'].append(estimated_orbit.jr())       # radial action\n",
    "            orbits['action_azimuthal_jphi'].append(estimated_orbit.jp())  # azimuthal action\n",
    "            orbits['action_vertical_jz'].append(estimated_orbit.jz())     # vertical action\n",
    "            orbits['helio_x'].append(estimated_orbit.helioX())            # heliocentric cartesian dist. (x-axis)\n",
    "            orbits['helio_y'].append(estimated_orbit.helioY())            # heliocentric cartesian dist. (y-axis)\n",
    "            orbits['helio_z'].append(estimated_orbit.helioZ())            # heliocentric cartesian dist. (z-axis)\n",
    "            orbits['energy_tot_e'].append(estimated_orbit.E())            # total energy\n",
    "            orbits['energy_z_ez'].append(estimated_orbit.Ez())            # partitioned energy (z-axis)\n",
    "            orbits['energy_r_er'].append(estimated_orbit.ER())            # partitioned energy (r-axis)\n",
    "            orbits['lsr_vel_u'].append(estimated_orbit.U())               # local standard of rest vel (u-axis)\n",
    "            orbits['lsr_vel_v'].append(estimated_orbit.V())               # local standard of rest vel (v-axis)\n",
    "            orbits['lsr_vel_w'].append(estimated_orbit.W())               # local standard of rest vel (w-axis)\n",
    "            orbits['vel_x_vx'].append(estimated_orbit.vx())               # mw cartesian velocity (x-axis)\n",
    "            orbits['vel_y_vy'].append(estimated_orbit.vy())               # mw cartesian velocity (y-axis)\n",
    "            orbits['vel_z_vz'].append(estimated_orbit.vz())               # mw cartesian velocity (y-axis)\n",
    "            orbits['vel_r_vr'].append(estimated_orbit.vR())               # radial velocity\n",
    "            orbits['vel_phi_vphi'].append(estimated_orbit.vphi())         # azimuthal velocity\n",
    "            orbits['eccentricity'].append(estimated_orbit.e())            # eccentricity\n",
    "            orbits['rperi'].append(estimated_orbit.rperi())               # radius of periapsis\n",
    "            orbits['rapoa'].append(estimated_orbit.rap())                 # radius of apoapsis\n",
    "            orbits['zmax'].append(estimated_orbit.zmax())                 # highest point in z-axis\n",
    "            orbits['rguiding'].append(estimated_orbit.rguiding())         # theoretical circular radius w/ equiv.\n",
    "                                                                            ## length of elliptical (real) orbit\n",
    "    # estimating the time to run the orbits for each star ---------------------------------------------------------\n",
    "    loop_time_f = time.process_time()\n",
    "    loop_time   = loop_time_f - loop_time_i \n",
    "    print(r\"Integration of orbits for object %i (CNAME=%s) finished. Elapsed time: %.2f min\" % \n",
    "          (i, cname[0], loop_time/60))\n",
    "    \n",
    "\n",
    "    orbits_df = pd.DataFrame(orbits)\n",
    "    orbits_df.to_csv('orbits.csv', index=False)\n",
    "    print(r\"file saved in %d th star\" %i)\n",
    "\n",
    "    # if (i%50==0):\n",
    "    #     orbits_df = pd.DataFrame(orbits)\n",
    "    #     orbits_df.to_csv(os.path.join(data_path, 'orbits.csv'), index=False)\n",
    "    #     print(r\"file saved in %d th star\" %i)\n",
    "    # else:\n",
    "    #     continue\n",
    "    \n",
    "end_time = time.process_time()\n",
    "print('Total elapsed time calculating the orbits for %d stars: %.2f min' % (data['CNAME'].size, \n",
    "                                                                              (end_time-start_time)/60))"
   ]
  }
 ],
 "metadata": {
  "kernelspec": {
   "display_name": "orbits",
   "language": "python",
   "name": "python3"
  },
  "language_info": {
   "codemirror_mode": {
    "name": "ipython",
    "version": 3
   },
   "file_extension": ".py",
   "mimetype": "text/x-python",
   "name": "python",
   "nbconvert_exporter": "python",
   "pygments_lexer": "ipython3",
   "version": "3.10.16"
  }
 },
 "nbformat": 4,
 "nbformat_minor": 5
}
